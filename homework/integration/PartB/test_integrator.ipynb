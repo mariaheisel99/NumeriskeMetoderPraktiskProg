{
 "cells": [
  {
   "cell_type": "code",
   "execution_count": 1,
   "metadata": {},
   "outputs": [],
   "source": [
    "import numpy as np\n",
    "from scipy import integrate"
   ]
  },
  {
   "attachments": {},
   "cell_type": "markdown",
   "metadata": {},
   "source": [
    "Calcualtion $\\int_0^1 1/\\sqrt{x} dx $ with scipy.integrate.quad"
   ]
  },
  {
   "cell_type": "code",
   "execution_count": 2,
   "metadata": {},
   "outputs": [
    {
     "name": "stdout",
     "output_type": "stream",
     "text": [
      "result is 2.0000000000000004 and it is called 231\n"
     ]
    }
   ],
   "source": [
    "ncalls= 0\n",
    "def f(x): \n",
    "\tglobal ncalls\n",
    "\tncalls=ncalls+1\n",
    "\treturn 1/np.sqrt(x)\n",
    "\n",
    "result = integrate.quad(f,0,1,epsabs=1e-4,epsrel=1e-4)\n",
    "\n",
    "print(f\"result is {result[0]} and it is called {ncalls}\")"
   ]
  },
  {
   "attachments": {},
   "cell_type": "markdown",
   "metadata": {},
   "source": [
    "Calcualtion $\\int_0^1 \\log{x}/\\sqrt{x} dx $ with scipy.integrate.quad"
   ]
  },
  {
   "cell_type": "code",
   "execution_count": 3,
   "metadata": {},
   "outputs": [
    {
     "name": "stdout",
     "output_type": "stream",
     "text": [
      "result is -3.999999999999974 and it is called 315\n"
     ]
    }
   ],
   "source": [
    "ncalls= 0\n",
    "def g(x): \n",
    "\tglobal ncalls\n",
    "\tncalls=ncalls+1\n",
    "\treturn np.log(x)/np.sqrt(x)\n",
    "\n",
    "result = integrate.quad(g,0,1,epsabs=1e-4,epsrel=1e-4)\n",
    "\n",
    "print(f\"result is {result[0]} and it is called {ncalls}\")"
   ]
  }
 ],
 "metadata": {
  "kernelspec": {
   "display_name": "base",
   "language": "python",
   "name": "python3"
  },
  "language_info": {
   "codemirror_mode": {
    "name": "ipython",
    "version": 3
   },
   "file_extension": ".py",
   "mimetype": "text/x-python",
   "name": "python",
   "nbconvert_exporter": "python",
   "pygments_lexer": "ipython3",
   "version": "3.9.7"
  },
  "orig_nbformat": 4
 },
 "nbformat": 4,
 "nbformat_minor": 2
}
